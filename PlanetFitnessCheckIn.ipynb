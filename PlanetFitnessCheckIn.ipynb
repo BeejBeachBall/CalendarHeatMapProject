{
 "cells": [
  {
   "cell_type": "code",
   "execution_count": 49,
   "metadata": {},
   "outputs": [],
   "source": [
    "import pandas as pd\n",
    "import matplotlib.pyplot as plt\n",
    "import calmap\n",
    "import calplot\n",
    "import seaborn as sns\n",
    "import numpy as np\n",
    "from vega_datasets import data as vds\n",
    "%matplotlib inline"
   ]
  },
  {
   "cell_type": "code",
   "execution_count": 50,
   "metadata": {},
   "outputs": [
    {
     "name": "stdout",
     "output_type": "stream",
     "text": [
      "        Dates  Times checked in\n",
      "0   5/12/2022               2.0\n",
      "1   5/13/2022               1.0\n",
      "2   5/14/2022               2.0\n",
      "3   5/15/2022               NaN\n",
      "4   5/16/2022               NaN\n",
      "5   5/17/2022               NaN\n",
      "6   5/18/2022               1.0\n",
      "7   5/19/2022               1.0\n",
      "8   5/20/2022               1.0\n",
      "9   5/21/2022               NaN\n",
      "10  5/22/2022               1.0\n",
      "11  5/23/2022               1.0\n",
      "12  5/24/2022               NaN\n",
      "13  5/25/2022               1.0\n",
      "14  5/26/2022               2.0\n",
      "15  5/27/2022               2.0\n",
      "16  5/28/2022               1.0\n",
      "17  5/29/2022               2.0\n",
      "18  5/30/2022               NaN\n",
      "19  5/31/2022               1.0\n"
     ]
    }
   ],
   "source": [
    "\n",
    "# data argument for plot is pandas series and must be indexed by a DatetimeIndex\n",
    "GymCheckRead = pd.read_csv('GymMayCheckIn.csv')\n",
    "GymCheckin_df = pd.Series(data= 'GymMayCheckIn.csv', index=pd.date_range(start = '5-12-22', end='5-31-22'))\n",
    "print(GymCheckRead)"
   ]
  },
  {
   "cell_type": "code",
   "execution_count": 51,
   "metadata": {},
   "outputs": [
    {
     "ename": "TypeError",
     "evalue": "ufunc 'isnan' not supported for the input types, and the inputs could not be safely coerced to any supported types according to the casting rule ''safe''",
     "output_type": "error",
     "traceback": [
      "\u001b[1;31m---------------------------------------------------------------------------\u001b[0m",
      "\u001b[1;31mTypeError\u001b[0m                                 Traceback (most recent call last)",
      "\u001b[1;32mc:\\Users\\Beej\\Documents\\programming\\HeatMapCalendar1\\PlanetFitnessCheckIn.ipynb Cell 3'\u001b[0m in \u001b[0;36m<cell line: 2>\u001b[1;34m()\u001b[0m\n\u001b[0;32m      <a href='vscode-notebook-cell:/c%3A/Users/Beej/Documents/programming/HeatMapCalendar1/PlanetFitnessCheckIn.ipynb#ch0000002?line=0'>1</a>\u001b[0m \u001b[39m#calendar heatmap\u001b[39;00m\n\u001b[1;32m----> <a href='vscode-notebook-cell:/c%3A/Users/Beej/Documents/programming/HeatMapCalendar1/PlanetFitnessCheckIn.ipynb#ch0000002?line=1'>2</a>\u001b[0m calmap\u001b[39m.\u001b[39;49mcalendarplot(data \u001b[39m=\u001b[39;49m GymCheckin_df)\n",
      "File \u001b[1;32m~\\AppData\\Local\\Packages\\PythonSoftwareFoundation.Python.3.9_qbz5n2kfra8p0\\LocalCache\\local-packages\\Python39\\site-packages\\calmap\\__init__.py:403\u001b[0m, in \u001b[0;36mcalendarplot\u001b[1;34m(data, how, yearlabels, yearascending, yearlabel_kws, subplot_kws, gridspec_kws, fig_kws, fig_suptitle, vmin, vmax, **kwargs)\u001b[0m\n\u001b[0;32m    400\u001b[0m max_weeks \u001b[39m=\u001b[39m \u001b[39m0\u001b[39m\n\u001b[0;32m    402\u001b[0m \u001b[39mfor\u001b[39;00m year, ax \u001b[39min\u001b[39;00m \u001b[39mzip\u001b[39m(years, axes):\n\u001b[1;32m--> 403\u001b[0m     yearplot(by_day, year\u001b[39m=\u001b[39myear, how\u001b[39m=\u001b[39m\u001b[39mNone\u001b[39;00m, ax\u001b[39m=\u001b[39max, \u001b[39m*\u001b[39m\u001b[39m*\u001b[39mkwargs)\n\u001b[0;32m    404\u001b[0m     max_weeks \u001b[39m=\u001b[39m \u001b[39mmax\u001b[39m(max_weeks, ax\u001b[39m.\u001b[39mget_xlim()[\u001b[39m1\u001b[39m])\n\u001b[0;32m    406\u001b[0m     \u001b[39mif\u001b[39;00m yearlabels:\n",
      "File \u001b[1;32m~\\AppData\\Local\\Packages\\PythonSoftwareFoundation.Python.3.9_qbz5n2kfra8p0\\LocalCache\\local-packages\\Python39\\site-packages\\calmap\\__init__.py:203\u001b[0m, in \u001b[0;36myearplot\u001b[1;34m(data, year, how, vmin, vmax, cmap, fillcolor, linewidth, linecolor, daylabels, dayticks, monthlabels, monthticks, monthly_border, ax, **kwargs)\u001b[0m\n\u001b[0;32m    201\u001b[0m \u001b[39m# Pivot data on day and week and mask NaN days. (we can also mask the days with 0 counts)\u001b[39;00m\n\u001b[0;32m    202\u001b[0m plot_data \u001b[39m=\u001b[39m by_day\u001b[39m.\u001b[39mpivot(\u001b[39m\"\u001b[39m\u001b[39mday\u001b[39m\u001b[39m\"\u001b[39m, \u001b[39m\"\u001b[39m\u001b[39mweek\u001b[39m\u001b[39m\"\u001b[39m, \u001b[39m\"\u001b[39m\u001b[39mdata\u001b[39m\u001b[39m\"\u001b[39m)\u001b[39m.\u001b[39mvalues[::\u001b[39m-\u001b[39m\u001b[39m1\u001b[39m]\n\u001b[1;32m--> 203\u001b[0m plot_data \u001b[39m=\u001b[39m np\u001b[39m.\u001b[39mma\u001b[39m.\u001b[39mmasked_where(np\u001b[39m.\u001b[39;49misnan(plot_data), plot_data)\n\u001b[0;32m    205\u001b[0m \u001b[39m# Do the same for all days of the year, not just those we have data for.\u001b[39;00m\n\u001b[0;32m    206\u001b[0m fill_data \u001b[39m=\u001b[39m by_day\u001b[39m.\u001b[39mpivot(\u001b[39m\"\u001b[39m\u001b[39mday\u001b[39m\u001b[39m\"\u001b[39m, \u001b[39m\"\u001b[39m\u001b[39mweek\u001b[39m\u001b[39m\"\u001b[39m, \u001b[39m\"\u001b[39m\u001b[39mfill\u001b[39m\u001b[39m\"\u001b[39m)\u001b[39m.\u001b[39mvalues[::\u001b[39m-\u001b[39m\u001b[39m1\u001b[39m]\n",
      "\u001b[1;31mTypeError\u001b[0m: ufunc 'isnan' not supported for the input types, and the inputs could not be safely coerced to any supported types according to the casting rule ''safe''"
     ]
    },
    {
     "data": {
      "image/png": "[encoded data removed]",
      "text/plain": [
       "<Figure size 432x288 with 1 Axes>"
      ]
     },
     "metadata": {
      "needs_background": "light"
     },
     "output_type": "display_data"
    }
   ],
   "source": [
    "#calendar heatmap\n",
    "calmap.calendarplot(data = GymCheckin_df)"
   ]
  }
 ],
 "metadata": {
  "kernelspec": {
   "display_name": "Python 3.9.13 64-bit (windows store)",
   "language": "python",
   "name": "python3"
  },
  "language_info": {
   "codemirror_mode": {
    "name": "ipython",
    "version": 3
   },
   "file_extension": ".py",
   "mimetype": "text/x-python",
   "name": "python",
   "nbconvert_exporter": "python",
   "pygments_lexer": "ipython3",
   "version": "3.9.13"
  },
  "orig_nbformat": 4,
  "vscode": {
   "interpreter": {
    "hash": "376c36abae7815083ccbb143686fcb0d6c29f61d17992fa69a18c8d8f1a895a0"
   }
  }
 },
 "nbformat": 4,
 "nbformat_minor": 2
}
